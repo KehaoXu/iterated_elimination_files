{
 "cells": [
  {
   "cell_type": "code",
   "execution_count": 1,
   "metadata": {},
   "outputs": [],
   "source": [
    "import numpy as np\n",
    "\n",
    "def sdeliminate(M1, M2):\n",
    "\n",
    "    M1 = np.array(M1)\n",
    "    M2 = np.array(M2)\n",
    "    \n",
    "    A1 = list(range(M1.shape[0]))\n",
    "    A2 = list(range(M1.shape[1]))\n",
    "    \n",
    "    changed = True\n",
    "    while changed:\n",
    "        changed = False\n",
    "        rows_to_remove = [] #save the rows to remove\n",
    "        for i in A1:\n",
    "            for j in A1:\n",
    "                if i != j:\n",
    "                    if np.all(M1[j, A2] > M1[i, A2]):\n",
    "                        rows_to_remove.append(i) #save the rows to remove\n",
    "                        # print(\"remove_row:\",i)\n",
    "                        break\n",
    "        if rows_to_remove:\n",
    "            for r in rows_to_remove:\n",
    "                if r in A1:\n",
    "                    A1.remove(r)\n",
    "            changed = True\n",
    "        \n",
    "        cols_to_remove = [] #save the cols to remove\n",
    "        for j in A2:\n",
    "            for k in A2:\n",
    "                if j != k:\n",
    "                    if np.all(M2[A1, k] > M2[A1, j]):\n",
    "                        cols_to_remove.append(j) #save the cols to remove\n",
    "                        # print('remove_col:',j)\n",
    "                        break\n",
    "        if cols_to_remove:\n",
    "            for c in cols_to_remove:\n",
    "                if c in A2:\n",
    "                    A2.remove(c)\n",
    "            changed = True\n",
    "    return A1, A2\n"
   ]
  },
  {
   "cell_type": "markdown",
   "metadata": {},
   "source": [
    "1.  "
   ]
  },
  {
   "cell_type": "code",
   "execution_count": 2,
   "metadata": {},
   "outputs": [
    {
     "name": "stdout",
     "output_type": "stream",
     "text": [
      "A1: [0]\n",
      "A2: [0]\n"
     ]
    }
   ],
   "source": [
    "M1 = [[4, 5, 6],[2, 8, 3],[3, 9, 2]]\n",
    "M2 = [[3, 1, 2],[1, 4, 6],[0, 6, 8]]\n",
    "A1, A2 = sdeliminate(M1, M2)\n",
    "print(\"A1:\", A1)\n",
    "print(\"A2:\", A2)\n"
   ]
  },
  {
   "cell_type": "markdown",
   "metadata": {},
   "source": [
    "2.  \n",
    "Case 1"
   ]
  },
  {
   "cell_type": "code",
   "execution_count": 3,
   "metadata": {},
   "outputs": [
    {
     "name": "stdout",
     "output_type": "stream",
     "text": [
      "A1: [0, 3, 4, 5]\n",
      "A2: [0, 1, 2, 3]\n"
     ]
    }
   ],
   "source": [
    "import scipy.io as scio\n",
    "\n",
    "data = scio.loadmat('iterated_elimination_files\\sdeliminate_test_case_1.mat')\n",
    "M1 = data['M1']\n",
    "M2 = data['M2']\n",
    "A1, A2 = sdeliminate(M1, M2)\n",
    "print(\"A1:\", A1)\n",
    "print(\"A2:\", A2)"
   ]
  },
  {
   "cell_type": "markdown",
   "metadata": {},
   "source": [
    "Case 2"
   ]
  },
  {
   "cell_type": "code",
   "execution_count": 4,
   "metadata": {},
   "outputs": [
    {
     "name": "stdout",
     "output_type": "stream",
     "text": [
      "A1: [0, 1, 2, 3, 4]\n",
      "A2: [1, 4, 6, 7]\n"
     ]
    }
   ],
   "source": [
    "data = scio.loadmat('iterated_elimination_files\\sdeliminate_test_case_2.mat')\n",
    "M1 = data['M1']\n",
    "M2 = data['M2']\n",
    "A1, A2 = sdeliminate(M1, M2)\n",
    "print(\"A1:\", A1)\n",
    "print(\"A2:\", A2)"
   ]
  }
 ],
 "metadata": {
  "kernelspec": {
   "display_name": "py3-optimize",
   "language": "python",
   "name": "python3"
  },
  "language_info": {
   "codemirror_mode": {
    "name": "ipython",
    "version": 3
   },
   "file_extension": ".py",
   "mimetype": "text/x-python",
   "name": "python",
   "nbconvert_exporter": "python",
   "pygments_lexer": "ipython3",
   "version": "3.11.10"
  }
 },
 "nbformat": 4,
 "nbformat_minor": 2
}
