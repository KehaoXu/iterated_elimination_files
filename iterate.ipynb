{
 "cells": [
  {
   "cell_type": "code",
   "execution_count": null,
   "metadata": {},
   "outputs": [],
   "source": [
    "import numpy as np\n",
    "\n",
    "def sdeliminate(M1, M2):\n",
    "\n",
    "    M1 = np.array(M1)\n",
    "    M2 = np.array(M2)\n",
    "    \n",
    "    surviving_rows = list(range(M1.shape[0]))\n",
    "    surviving_cols = list(range(M1.shape[1]))\n",
    "    \n",
    "    changed = True\n",
    "    while changed:\n",
    "        changed = False\n",
    "        rows_to_remove = [] #save the rows to remove\n",
    "        for i in surviving_rows:\n",
    "            for j in surviving_rows:\n",
    "                if i != j:\n",
    "                    if np.all(M1[j, surviving_cols] > M1[i, surviving_cols]):\n",
    "                        rows_to_remove.append(i) #save the rows to remove\n",
    "                        # print(\"remove_row:\",i)\n",
    "                        break\n",
    "        if rows_to_remove:\n",
    "            for r in rows_to_remove:\n",
    "                if r in surviving_rows:\n",
    "                    surviving_rows.remove(r)\n",
    "            changed = True\n",
    "        \n",
    "        cols_to_remove = [] #save the cols to remove\n",
    "        for j in surviving_cols:\n",
    "            for k in surviving_cols:\n",
    "                if j != k:\n",
    "                    if np.all(M2[surviving_rows, k] > M2[surviving_rows, j]):\n",
    "                        cols_to_remove.append(j) #save the cols to remove\n",
    "                        # print('remove_col:',j)\n",
    "                        break\n",
    "        if cols_to_remove:\n",
    "            for c in cols_to_remove:\n",
    "                if c in surviving_cols:\n",
    "                    surviving_cols.remove(c)\n",
    "            changed = True\n",
    "    return surviving_rows, surviving_cols\n"
   ]
  },
  {
   "cell_type": "markdown",
   "metadata": {},
   "source": [
    "1.  "
   ]
  },
  {
   "cell_type": "code",
   "execution_count": 6,
   "metadata": {},
   "outputs": [
    {
     "name": "stdout",
     "output_type": "stream",
     "text": [
      "A1: [0]\n",
      "A2: [0]\n"
     ]
    }
   ],
   "source": [
    "M1 = [[4, 5, 6],\n",
    "      [2, 8, 3],\n",
    "      [3, 9, 2]]\n",
    "M2 = [[3, 1, 2],\n",
    "      [1, 4, 6],\n",
    "      [0, 6, 8]]\n",
    "surviving_rows, surviving_cols = sdeliminate(M1, M2)\n",
    "print(\"A1:\", surviving_rows)\n",
    "print(\"A2:\", surviving_cols)\n"
   ]
  },
  {
   "cell_type": "markdown",
   "metadata": {},
   "source": [
    "2.  \n",
    "Case 1"
   ]
  },
  {
   "cell_type": "code",
   "execution_count": 7,
   "metadata": {},
   "outputs": [
    {
     "name": "stdout",
     "output_type": "stream",
     "text": [
      "A1: [0, 3, 4, 5]\n",
      "A2: [0, 1, 2, 3]\n"
     ]
    }
   ],
   "source": [
    "import scipy.io as scio\n",
    "\n",
    "data = scio.loadmat('iterated_elimination_files\\sdeliminate_test_case_1.mat')\n",
    "M1 = data['M1']\n",
    "M2 = data['M2']\n",
    "surviving_rows, surviving_cols = sdeliminate(M1, M2)\n",
    "print(\"A1:\", surviving_rows)\n",
    "print(\"A2:\", surviving_cols)"
   ]
  },
  {
   "cell_type": "markdown",
   "metadata": {},
   "source": [
    "Case 2"
   ]
  },
  {
   "cell_type": "code",
   "execution_count": 8,
   "metadata": {},
   "outputs": [
    {
     "name": "stdout",
     "output_type": "stream",
     "text": [
      "A1: [0, 1, 2, 3, 4]\n",
      "A2: [1, 4, 6, 7]\n"
     ]
    }
   ],
   "source": [
    "data = scio.loadmat('iterated_elimination_files\\sdeliminate_test_case_2.mat')\n",
    "M1 = data['M1']\n",
    "M2 = data['M2']\n",
    "surviving_rows, surviving_cols = sdeliminate(M1, M2)\n",
    "print(\"A1:\", surviving_rows)\n",
    "print(\"A2:\", surviving_cols)"
   ]
  }
 ],
 "metadata": {
  "kernelspec": {
   "display_name": "py3-optimize",
   "language": "python",
   "name": "python3"
  },
  "language_info": {
   "codemirror_mode": {
    "name": "ipython",
    "version": 3
   },
   "file_extension": ".py",
   "mimetype": "text/x-python",
   "name": "python",
   "nbconvert_exporter": "python",
   "pygments_lexer": "ipython3",
   "version": "3.11.10"
  }
 },
 "nbformat": 4,
 "nbformat_minor": 2
}
